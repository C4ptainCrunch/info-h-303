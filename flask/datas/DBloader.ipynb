{
 "cells": [
  {
   "cell_type": "code",
   "execution_count": 1,
   "metadata": {
    "collapsed": false
   },
   "outputs": [],
   "source": [
    "from bs4 import BeautifulSoup\n",
    "from psycopg2 import connect\n",
    "import datetime"
   ]
  },
  {
   "cell_type": "code",
   "execution_count": 127,
   "metadata": {
    "collapsed": false
   },
   "outputs": [],
   "source": [
    "f = open(\"Cafes.xml\", \"r\")\n",
    "xml = f.read()"
   ]
  },
  {
   "cell_type": "code",
   "execution_count": 119,
   "metadata": {
    "collapsed": true
   },
   "outputs": [],
   "source": [
    "con = connect(\"dbname=horeca\")\n",
    "cursor = con.cursor()"
   ]
  },
  {
   "cell_type": "code",
   "execution_count": 128,
   "metadata": {
    "collapsed": true
   },
   "outputs": [],
   "source": [
    "soup = BeautifulSoup(xml, \"lxml-xml\")"
   ]
  },
  {
   "cell_type": "code",
   "execution_count": 129,
   "metadata": {
    "collapsed": false
   },
   "outputs": [],
   "source": [
    "c = soup.findAll(\"Cafe\")"
   ]
  },
  {
   "cell_type": "code",
   "execution_count": 6,
   "metadata": {
    "collapsed": true
   },
   "outputs": [],
   "source": [
    "def createUser(username, admin=False):\n",
    "    email = username + \"@ulb.ac.be\"\n",
    "    password = username\n",
    "    created = datetime.datetime.now()\n",
    "    sql = \"\"\"INSERT INTO \"user\" (username,email,password,created,is_admin) VALUES (%s,%s,%s,%s,%s) RETURNING id\"\"\"\n",
    "    cursor.execute(\"\"\"SELECT * FROM \"user\" WHERE username=%s\"\"\", [username])\n",
    "    res = cursor.fetchone()\n",
    "    if res:\n",
    "        if admin:\n",
    "            cursor.execute(\"\"\"UPDATE \"user\" SET is_admin=%s WHERE id=%s\"\"\", [True, res[0]])\n",
    "        return res[0]\n",
    "    cursor.execute(sql,[username, email, password, created, admin])\n",
    "    res = cursor.fetchone()[0]\n",
    "    return res"
   ]
  },
  {
   "cell_type": "code",
   "execution_count": 116,
   "metadata": {
    "collapsed": true
   },
   "outputs": [],
   "source": [
    "def createLabel(label):\n",
    "    sql = \"\"\"INSERT INTO \"label\" (name) VALUES (%s) RETURNING id\"\"\"\n",
    "    cursor.execute(\"\"\"SELECT * FROM \"label\" WHERE name=%s\"\"\", [label])\n",
    "    res = cursor.fetchone()\n",
    "    if res:\n",
    "        return res[0]\n",
    "    cursor.execute(sql,[label])\n",
    "    res = cursor.fetchone()[0]\n",
    "    return res"
   ]
  },
  {
   "cell_type": "code",
   "execution_count": 57,
   "metadata": {
    "collapsed": false
   },
   "outputs": [],
   "source": [
    "def tag(tags, etablissement_id):\n",
    "    sql = \"\"\"INSERT INTO \"etablissement_label\" (etablissement_id,user_id,label_id) VALUES (%s,%s,%s)\"\"\"\n",
    "    for t in tags:\n",
    "        label_id = createLabel(t[\"name\"])\n",
    "        for user in t.findAll(\"User\"):\n",
    "            user_id = createUser(user[\"nickname\"])\n",
    "            cursor.execute(sql, [etablissement_id, user_id, label_id])\n",
    "        "
   ]
  },
  {
   "cell_type": "code",
   "execution_count": 43,
   "metadata": {
    "collapsed": false
   },
   "outputs": [],
   "source": [
    "def comment(comments, etablissement_id):\n",
    "    sql = \"\"\"INSERT INTO \"comment\" (user_id,etablissement_id,date,score,text) VALUES (%s,%s,%s,%s,%s)\"\"\"\n",
    "    for c in comments:\n",
    "        user_id = createUser(c[\"nickname\"])\n",
    "        date = datetime.date(*map(int,reversed(c[\"date\"].split('/'))))\n",
    "        score = int(c[\"score\"])\n",
    "        text = c.get_text()\n",
    "        cursor.execute(sql,[user_id, etablissement_id, date, score, text])"
   ]
  },
  {
   "cell_type": "code",
   "execution_count": 58,
   "metadata": {
    "collapsed": true
   },
   "outputs": [],
   "source": [
    "def createEtablissement(xmlEntity, type):\n",
    "    name = xmlEntity.Informations.Name.get_text()\n",
    "    phone = c.Informations.Tel.get_text()\n",
    "    url = c.Informations.Site\n",
    "    if url:\n",
    "        url = url[\"link\"]\n",
    "    address = c.Informations.Address\n",
    "    address_street = address.Street.get_text()\n",
    "    address_number = address.Num.get_text()\n",
    "    address_zip = address.Zip.get_text()\n",
    "    address_city = address.City.get_text()\n",
    "    latitude = address.Latitude.get_text()\n",
    "    longitude = address.Longitude.get_text()\n",
    "    created = datetime.date(*map(int,reversed(c[\"creationDate\"].split('/'))))\n",
    "    user_id = createUser(c[\"nickname\"], True)\n",
    "    \n",
    "    sql = \"\"\"INSERT INTO \"etablissement\" \n",
    "            (name, phone, url, address_street, address_number, address_zip, address_city, latitude, longitude,  created, user_id, type) \n",
    "            VALUES (%s,%s,%s,%s,%s,%s,%s,%s,%s,%s,%s,%s) RETURNING id\"\"\"\n",
    "    cursor.execute(sql,[name, phone, url, address_street, address_number, address_zip, address_city, latitude, longitude, created, user_id, type])\n",
    "    res = cursor.fetchone()[0]\n",
    "    \n",
    "    comment(xmlEntity.Comments.findAll(\"Comment\"), res)\n",
    "    tag(xmlEntity.Tags.findAll(\"Tag\"), res)\n",
    "    \n",
    "    return res"
   ]
  },
  {
   "cell_type": "code",
   "execution_count": 9,
   "metadata": {
    "collapsed": true
   },
   "outputs": [],
   "source": [
    "def createCafe(cafe):\n",
    "    etablissement_id = createEtablissement(cafe, \"bar\")\n",
    "    smoker = c.Informations.Smoking is not None\n",
    "    food = c.Informations.Snack is not None\n",
    "    \n",
    "    sql = \"\"\"INSERT INTO \"bar\" (etablissement_id,smoker,food) VALUES (%s,%s,%s) RETURNING etablissement_id\"\"\"\n",
    "    cursor.execute(sql, [etablissement_id, smoker, food])\n",
    "    res = cursor.fetchone()[0]\n",
    "    return res"
   ]
  },
  {
   "cell_type": "code",
   "execution_count": 121,
   "metadata": {
    "collapsed": true
   },
   "outputs": [],
   "source": [
    "def createRestaurant(resto):\n",
    "    sql = \"\"\"INSERT INTO \"restaurant\" \n",
    "            (etablissement_id,price_range,max_seats,takeaway,delivery,openings)\n",
    "            VALUES (%s,%s,%s,%s,%s,%s) RETURNING etablissement_id\"\"\"\n",
    "    etablissement_id = createEtablissement(resto, \"restaurant\")\n",
    "    price_range = int(resto.Informations.PriceRange.get_text())\n",
    "    max_seats = int(resto.Informations.Banquet[\"capacity\"])\n",
    "    takeaway = resto.TakeAway is not None\n",
    "    delivery = resto.Delivery is not None\n",
    "    openings = [True] * 14\n",
    "    if resto.Informations.Closed:\n",
    "        for close in resto.Informations.Closed.findAll(\"On\"):\n",
    "            am = False\n",
    "            pm = False\n",
    "            if close.get(\"hour\") == \"am\":\n",
    "                pm = True\n",
    "            elif close.get(\"hour\") == \"pm\":\n",
    "                am = True\n",
    "            day = int(close[\"day\"])\n",
    "            openings[2*day] = am\n",
    "            openings[2*day + 1] = pm\n",
    "    cursor.execute(sql, [etablissement_id, price_range, max_seats, takeaway, delivery, openings])\n",
    "    res = cursor.fetchone()[0]\n",
    "    return res"
   ]
  },
  {
   "cell_type": "code",
   "execution_count": 122,
   "metadata": {
    "collapsed": true
   },
   "outputs": [],
   "source": [
    "con.commit()"
   ]
  },
  {
   "cell_type": "code",
   "execution_count": 130,
   "metadata": {
    "collapsed": false
   },
   "outputs": [],
   "source": [
    "con.close()"
   ]
  }
 ],
 "metadata": {
  "kernelspec": {
   "display_name": "Python 3",
   "language": "python",
   "name": "python3"
  },
  "language_info": {
   "codemirror_mode": {
    "name": "ipython",
    "version": 3
   },
   "file_extension": ".py",
   "mimetype": "text/x-python",
   "name": "python",
   "nbconvert_exporter": "python",
   "pygments_lexer": "ipython3",
   "version": "3.5.1"
  }
 },
 "nbformat": 4,
 "nbformat_minor": 0
}
